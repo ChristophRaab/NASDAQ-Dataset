{
 "cells": [
  {
   "cell_type": "markdown",
   "metadata": {
    "colab_type": "text",
    "id": "view-in-github"
   },
   "source": [
    "<a href=\"https://colab.research.google.com/github/ChristophRaab/NASDAQ-Dataset/blob/master/SentQs_Demo.ipynb\" target=\"_parent\"><img src=\"https://colab.research.google.com/assets/colab-badge.svg\" alt=\"Open In Colab\"/></a>"
   ]
  },
  {
   "cell_type": "markdown",
   "metadata": {
    "id": "Eu-yX3Bg1ypP"
   },
   "source": [
    "<h1>SentQS Demo\n",
    "\n",
    "---\n",
    "\n",
    "This files shows how to download the SentQs dataset and train an 1D-CNN-Lstm Network on it \n",
    "Remarks: Set runtime to GPU for GPU acceleration\n",
    "\n",
    "More information about the dataset can be found at:\n",
    "\n",
    "https://github.com/ChristophRaab/NASDAQ-Dataset\n",
    "\n",
    "Author: Christoph Raab "
   ]
  },
  {
   "cell_type": "markdown",
   "metadata": {
    "id": "vniUbsTW2Zm2"
   },
   "source": [
    "<h2> Import modules and load data into program"
   ]
  },
  {
   "cell_type": "code",
   "execution_count": 1,
   "metadata": {
    "id": "h1Ldq_su1V4S"
   },
   "outputs": [],
   "source": [
    "from tensorflow.keras.preprocessing import sequence\n",
    "from tensorflow.keras.models import Sequential\n",
    "from tensorflow.keras.layers import Dense, Dropout, Activation\n",
    "from tensorflow.keras.layers import Embedding\n",
    "from tensorflow.keras.layers import LSTM\n",
    "from tensorflow.keras.layers import Conv1D, MaxPooling1D,Conv2D, BatchNormalization\n",
    "from tensorflow.keras.datasets import imdb\n",
    "import requests\n",
    "import sys\n",
    "from tensorflow.keras.utils import to_categorical\n",
    "import numpy as np\n",
    "from sklearn.ensemble import GradientBoostingClassifier\n",
    "from sklearn import preprocessing"
   ]
  },
  {
   "cell_type": "code",
   "execution_count": 2,
   "metadata": {
    "colab": {
     "base_uri": "https://localhost:8080/"
    },
    "id": "K6jZAeVvDJiM",
    "outputId": "8cff2703-9b79-43f6-ae49-327aee1f861b"
   },
   "outputs": [
    {
     "name": "stdout",
     "output_type": "stream",
     "text": [
      "--2020-12-10 09:02:31--  https://cloud.fhws.de/index.php/s/4sJ69ocZW8epAke/download\n",
      "Resolving cloud.fhws.de (cloud.fhws.de)... 193.174.83.161\n",
      "Connecting to cloud.fhws.de (cloud.fhws.de)|193.174.83.161|:443... connected.\n",
      "WARNING: cannot verify cloud.fhws.de's certificate, issued by ‘CN=DFN-Verein Global Issuing CA,OU=DFN-PKI,O=Verein zur Foerderung eines Deutschen Forschungsnetzes e. V.,C=DE’:\n",
      "  Unable to locally verify the issuer's authority.\n",
      "HTTP request sent, awaiting response... 200 OK\n",
      "Length: 98939622 (94M) [application/octet-stream]\n",
      "Saving to: ‘sentqs_dataset.npz’\n",
      "\n",
      "sentqs_dataset.npz  100%[===================>]  94.36M  2.62MB/s    in 31s     \n",
      "\n",
      "2020-12-10 09:03:03 (3.00 MB/s) - ‘sentqs_dataset.npz’ saved [98939622/98939622]\n",
      "\n"
     ]
    }
   ],
   "source": [
    "# Download data\n",
    "!wget --no-check-certificate https://cloud.fhws.de/index.php/s/4sJ69ocZW8epAke/download -O sentqs_dataset.npz"
   ]
  },
  {
   "cell_type": "code",
   "execution_count": 3,
   "metadata": {
    "id": "rZfHG-5A2qDN"
   },
   "outputs": [],
   "source": [
    "#Load data into program\n",
    "file_name = \"sentqs_dataset.npz\"\n",
    "data = np.load(file_name,allow_pickle=True)\n",
    "Xs = data[\"arr_0\"]\n",
    "Ys = data[\"arr_1\"]\n",
    "Xt = data[\"arr_2\"]\n",
    "Yt = data[\"arr_3\"]"
   ]
  },
  {
   "cell_type": "markdown",
   "metadata": {
    "id": "dRGQ0-4C1FdZ"
   },
   "source": [
    "<h2> Preprocess (Only one call per runtime)"
   ]
  },
  {
   "cell_type": "code",
   "execution_count": 4,
   "metadata": {
    "id": "uV0NTFum1BSk"
   },
   "outputs": [],
   "source": [
    "# Standardize  data\n",
    "Xs = (Xs - Xs.mean(0)) / Xs.std(0)\n",
    "Xt = (Xt - Xt.mean(0)) / Xt.std(0)\n",
    "\n",
    "# Make data compatible with conv1d layers\n",
    "Xs = np.expand_dims(Xs, 2)\n",
    "Xt = np.expand_dims(Xt, 2)\n",
    "\n",
    "# Make labels comaptible with categorical cross-entropy \n",
    "Ys = to_categorical(Ys,3)\n",
    "Yt = to_categorical(Yt,3)\n",
    "\n"
   ]
  },
  {
   "cell_type": "markdown",
   "metadata": {
    "id": "Z2RWCQnd1O_E"
   },
   "source": [
    "<h2> Model paramters and defintion"
   ]
  },
  {
   "cell_type": "code",
   "execution_count": 5,
   "metadata": {
    "id": "5ZLOXS0d2yJA"
   },
   "outputs": [],
   "source": [
    "# Model Parameters\n",
    "# Convolution\n",
    "kernel_size = 5\n",
    "filters = 64\n",
    "pool_size = 4\n",
    "# LSTM\n",
    "lstm_output_size = 70\n",
    "# Training\n",
    "batch_size = 128\n",
    "epochs = 30\n",
    "num_classes = Ys.shape[1]\n",
    "\n",
    "# Define and compile CNN-LSTM-Network\n",
    "model = Sequential()\n",
    "model.add(Conv1D(filters,\n",
    "                 kernel_size,\n",
    "                 padding='valid',\n",
    "                 activation='relu',\n",
    "                 strides=1))\n",
    "model.add(MaxPooling1D(pool_size=pool_size))\n",
    "model.add(LSTM(lstm_output_size))\n",
    "model.add(Dense(100))\n",
    "model.add(Dense(35))\n",
    "model.add(Dense(num_classes))\n",
    "model.add(Activation('softmax'))\n",
    "\n",
    "model.compile(loss='categorical_crossentropy',\n",
    "              optimizer='adam',\n",
    "              metrics=['accuracy'])"
   ]
  },
  {
   "cell_type": "markdown",
   "metadata": {
    "id": "lIrPUxfP1c7d"
   },
   "source": [
    "<h2>  Train and Evaluate Network"
   ]
  },
  {
   "cell_type": "code",
   "execution_count": 6,
   "metadata": {
    "colab": {
     "base_uri": "https://localhost:8080/"
    },
    "id": "ccmRoOGgGEjw",
    "outputId": "b3dad7b0-cea4-4dde-8982-d275b60a624f"
   },
   "outputs": [
    {
     "name": "stdout",
     "output_type": "stream",
     "text": [
      "Epoch 1/30\n",
      "168/168 [==============================] - 2s 15ms/step - loss: 0.6496 - accuracy: 0.7666 - val_loss: 2.0354 - val_accuracy: 0.1117\n",
      "Epoch 2/30\n",
      "168/168 [==============================] - 2s 12ms/step - loss: 0.6305 - accuracy: 0.7697 - val_loss: 1.8911 - val_accuracy: 0.1117\n",
      "Epoch 3/30\n",
      "168/168 [==============================] - 2s 11ms/step - loss: 0.6210 - accuracy: 0.7733 - val_loss: 1.9358 - val_accuracy: 0.1117\n",
      "Epoch 4/30\n",
      "168/168 [==============================] - 2s 11ms/step - loss: 0.6187 - accuracy: 0.7730 - val_loss: 2.0511 - val_accuracy: 0.1116\n",
      "Epoch 5/30\n",
      "168/168 [==============================] - 2s 11ms/step - loss: 0.6145 - accuracy: 0.7732 - val_loss: 1.9161 - val_accuracy: 0.1117\n",
      "Epoch 6/30\n",
      "168/168 [==============================] - 2s 12ms/step - loss: 0.6132 - accuracy: 0.7735 - val_loss: 1.9024 - val_accuracy: 0.1123\n",
      "Epoch 7/30\n",
      "168/168 [==============================] - 2s 11ms/step - loss: 0.6131 - accuracy: 0.7733 - val_loss: 1.8436 - val_accuracy: 0.1117\n",
      "Epoch 8/30\n",
      "168/168 [==============================] - 2s 12ms/step - loss: 0.6122 - accuracy: 0.7736 - val_loss: 1.9586 - val_accuracy: 0.1117\n",
      "Epoch 9/30\n",
      "168/168 [==============================] - 2s 12ms/step - loss: 0.6098 - accuracy: 0.7737 - val_loss: 1.8429 - val_accuracy: 0.1178\n",
      "Epoch 10/30\n",
      "168/168 [==============================] - 2s 12ms/step - loss: 0.6102 - accuracy: 0.7732 - val_loss: 1.9968 - val_accuracy: 0.1117\n",
      "Epoch 11/30\n",
      "168/168 [==============================] - 2s 11ms/step - loss: 0.6069 - accuracy: 0.7734 - val_loss: 1.9548 - val_accuracy: 0.1119\n",
      "Epoch 12/30\n",
      "168/168 [==============================] - 2s 12ms/step - loss: 0.6044 - accuracy: 0.7738 - val_loss: 1.7752 - val_accuracy: 0.1178\n",
      "Epoch 13/30\n",
      "168/168 [==============================] - 2s 12ms/step - loss: 0.6039 - accuracy: 0.7733 - val_loss: 2.0535 - val_accuracy: 0.1126\n",
      "Epoch 14/30\n",
      "168/168 [==============================] - 2s 11ms/step - loss: 0.6014 - accuracy: 0.7736 - val_loss: 1.8828 - val_accuracy: 0.1118\n",
      "Epoch 15/30\n",
      "168/168 [==============================] - 2s 11ms/step - loss: 0.5991 - accuracy: 0.7746 - val_loss: 2.0269 - val_accuracy: 0.1159\n",
      "Epoch 16/30\n",
      "168/168 [==============================] - 2s 12ms/step - loss: 0.5980 - accuracy: 0.7744 - val_loss: 1.9996 - val_accuracy: 0.1168\n",
      "Epoch 17/30\n",
      "168/168 [==============================] - 2s 11ms/step - loss: 0.5963 - accuracy: 0.7747 - val_loss: 2.2084 - val_accuracy: 0.1131\n",
      "Epoch 18/30\n",
      "168/168 [==============================] - 2s 11ms/step - loss: 0.5941 - accuracy: 0.7756 - val_loss: 1.8766 - val_accuracy: 0.1224\n",
      "Epoch 19/30\n",
      "168/168 [==============================] - 2s 11ms/step - loss: 0.5898 - accuracy: 0.7761 - val_loss: 1.9167 - val_accuracy: 0.1189\n",
      "Epoch 20/30\n",
      "168/168 [==============================] - 2s 11ms/step - loss: 0.5871 - accuracy: 0.7781 - val_loss: 1.9342 - val_accuracy: 0.1203\n",
      "Epoch 21/30\n",
      "168/168 [==============================] - 2s 11ms/step - loss: 0.5858 - accuracy: 0.7780 - val_loss: 2.0691 - val_accuracy: 0.1131\n",
      "Epoch 22/30\n",
      "168/168 [==============================] - 2s 11ms/step - loss: 0.5815 - accuracy: 0.7800 - val_loss: 1.9993 - val_accuracy: 0.1314\n",
      "Epoch 23/30\n",
      "168/168 [==============================] - 2s 11ms/step - loss: 0.5762 - accuracy: 0.7827 - val_loss: 2.3035 - val_accuracy: 0.1166\n",
      "Epoch 24/30\n",
      "168/168 [==============================] - 2s 11ms/step - loss: 0.5743 - accuracy: 0.7825 - val_loss: 2.1301 - val_accuracy: 0.1232\n",
      "Epoch 25/30\n",
      "168/168 [==============================] - 2s 11ms/step - loss: 0.5698 - accuracy: 0.7832 - val_loss: 2.1352 - val_accuracy: 0.1206\n",
      "Epoch 26/30\n",
      "168/168 [==============================] - 2s 11ms/step - loss: 0.5665 - accuracy: 0.7841 - val_loss: 2.1144 - val_accuracy: 0.1214\n",
      "Epoch 27/30\n",
      "168/168 [==============================] - 2s 11ms/step - loss: 0.5647 - accuracy: 0.7835 - val_loss: 1.9307 - val_accuracy: 0.1385\n",
      "Epoch 28/30\n",
      "168/168 [==============================] - 2s 12ms/step - loss: 0.5606 - accuracy: 0.7853 - val_loss: 2.0638 - val_accuracy: 0.1258\n",
      "Epoch 29/30\n",
      "168/168 [==============================] - 2s 13ms/step - loss: 0.5579 - accuracy: 0.7863 - val_loss: 2.0934 - val_accuracy: 0.1311\n",
      "Epoch 30/30\n",
      "168/168 [==============================] - 2s 12ms/step - loss: 0.5529 - accuracy: 0.7881 - val_loss: 2.2127 - val_accuracy: 0.1290\n",
      "314/314 [==============================] - 1s 3ms/step - loss: 2.2127 - accuracy: 0.1290\n",
      "Model: \"sequential\"\n",
      "_________________________________________________________________\n",
      "Layer (type)                 Output Shape              Param #   \n",
      "=================================================================\n",
      "conv1d (Conv1D)              (None, 196, 64)           384       \n",
      "_________________________________________________________________\n",
      "max_pooling1d (MaxPooling1D) (None, 49, 64)            0         \n",
      "_________________________________________________________________\n",
      "lstm (LSTM)                  (None, 70)                37800     \n",
      "_________________________________________________________________\n",
      "dense (Dense)                (None, 100)               7100      \n",
      "_________________________________________________________________\n",
      "dense_1 (Dense)              (None, 35)                3535      \n",
      "_________________________________________________________________\n",
      "dense_2 (Dense)              (None, 3)                 108       \n",
      "_________________________________________________________________\n",
      "activation (Activation)      (None, 3)                 0         \n",
      "=================================================================\n",
      "Total params: 48,927\n",
      "Trainable params: 48,927\n",
      "Non-trainable params: 0\n",
      "_________________________________________________________________\n",
      "Evaluated CNN-LSTM Neural Network\n",
      "Test score: 2.212710380554199\n",
      "Test accuracy: 0.12896795570850372\n"
     ]
    }
   ],
   "source": [
    "# Test if data has valid shapes\n",
    "assert Xs.shape == (21395,200,1)\n",
    "assert Ys.shape == (21395,3)\n",
    "assert Xt.shape == (40134,200,1)\n",
    "assert Yt.shape == (40134,3)\n",
    "model.fit(Xs, Ys,\n",
    "          batch_size=batch_size,\n",
    "          epochs=epochs,\n",
    "          validation_data=(Xt, Yt))\n",
    "score, acc = model.evaluate(Xt, Yt, batch_size=batch_size)\n",
    "model.summary()\n",
    "print(\"Evaluated CNN-LSTM Neural Network\")\n",
    "print('Test score:', score)\n",
    "print('Test accuracy:', acc)\n"
   ]
  }
 ],
 "metadata": {
  "accelerator": "GPU",
  "colab": {
   "authorship_tag": "ABX9TyPMRspZruY4LZS1UieEVu3Z",
   "collapsed_sections": [],
   "include_colab_link": true,
   "name": "SentQs_Demo",
   "provenance": []
  },
  "kernelspec": {
   "display_name": "Python 3",
   "language": "python",
   "name": "python3"
  },
  "language_info": {
   "codemirror_mode": {
    "name": "ipython",
    "version": 3
   },
   "file_extension": ".py",
   "mimetype": "text/x-python",
   "name": "python",
   "nbconvert_exporter": "python",
   "pygments_lexer": "ipython3",
   "version": "3.6.13"
  },
  "varInspector": {
   "cols": {
    "lenName": 16,
    "lenType": 16,
    "lenVar": 40
   },
   "kernels_config": {
    "python": {
     "delete_cmd_postfix": "",
     "delete_cmd_prefix": "del ",
     "library": "var_list.py",
     "varRefreshCmd": "print(var_dic_list())"
    },
    "r": {
     "delete_cmd_postfix": ") ",
     "delete_cmd_prefix": "rm(",
     "library": "var_list.r",
     "varRefreshCmd": "cat(var_dic_list()) "
    }
   },
   "types_to_exclude": [
    "module",
    "function",
    "builtin_function_or_method",
    "instance",
    "_Feature"
   ],
   "window_display": false
  }
 },
 "nbformat": 4,
 "nbformat_minor": 1
}
