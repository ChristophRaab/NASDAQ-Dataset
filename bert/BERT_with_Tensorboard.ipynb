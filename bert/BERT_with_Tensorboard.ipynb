{
  "nbformat": 4,
  "nbformat_minor": 5,
  "metadata": {
    "kernelspec": {
      "display_name": "Python 3",
      "language": "python",
      "name": "python3"
    },
    "language_info": {
      "codemirror_mode": {
        "name": "ipython",
        "version": 3
      },
      "file_extension": ".py",
      "mimetype": "text/x-python",
      "name": "python",
      "nbconvert_exporter": "python",
      "pygments_lexer": "ipython3",
      "version": "3.8.8"
    },
    "colab": {
      "name": "BERT_with_Tensorboard.ipynb",
      "provenance": [],
      "include_colab_link": true
    }
  },
  "cells": [
    {
      "cell_type": "markdown",
      "metadata": {
        "id": "view-in-github",
        "colab_type": "text"
      },
      "source": [
        "<a href=\"https://colab.research.google.com/github/ChrisNiekler/NASDAQ-Dataset/blob/master/bert/BERT_with_Tensorboard.ipynb\" target=\"_parent\"><img src=\"https://colab.research.google.com/assets/colab-badge.svg\" alt=\"Open In Colab\"/></a>"
      ]
    },
    {
      "cell_type": "markdown",
      "metadata": {
        "id": "cbf323af"
      },
      "source": [
        "# \"transformers\" muss installiert werden bevor man es nutzten kann."
      ],
      "id": "cbf323af"
    },
    {
      "cell_type": "code",
      "metadata": {
        "id": "3b5da65e"
      },
      "source": [
        "!pip install transformers"
      ],
      "id": "3b5da65e",
      "execution_count": null,
      "outputs": []
    },
    {
      "cell_type": "code",
      "metadata": {
        "id": "5788c0eb"
      },
      "source": [
        "gpu_info = !nvidia-smi\n",
        "gpu_info = '\\n'.join(gpu_info)\n",
        "if gpu_info.find('failed') >= 0:\n",
        "  print('Not connected to a GPU')\n",
        "else:\n",
        "  print(gpu_info)"
      ],
      "id": "5788c0eb",
      "execution_count": null,
      "outputs": []
    },
    {
      "cell_type": "markdown",
      "metadata": {
        "id": "f835a13a"
      },
      "source": [
        "# Notwendige Libraries importieren"
      ],
      "id": "f835a13a"
    },
    {
      "cell_type": "code",
      "metadata": {
        "id": "d31a40dd"
      },
      "source": [
        "import pandas as pd\n",
        "import tensorflow as tf\n",
        "from sklearn.model_selection import train_test_split\n",
        "from transformers import BertTokenizer, TFBertForSequenceClassification\n",
        "from transformers import InputExample, InputFeatures\n",
        "from transformers import AlbertTokenizer, AlbertForTokenClassification"
      ],
      "id": "d31a40dd",
      "execution_count": null,
      "outputs": []
    },
    {
      "cell_type": "markdown",
      "metadata": {
        "id": "511f750a"
      },
      "source": [
        "# BERT sollte auf einer GPU laufen, da es auf einer CPU deutlich mehr Zeit benötigt."
      ],
      "id": "511f750a"
    },
    {
      "cell_type": "code",
      "metadata": {
        "id": "73230f9f"
      },
      "source": [
        "# to check the GPU\n",
        "%tensorflow_version 2.x\n",
        "device_name = tf.test.gpu_device_name()\n",
        "if device_name != '/device:GPU:0':\n",
        "  raise SystemError('GPU device not found')\n",
        "print(f'Found GPU at: {device_name}')"
      ],
      "id": "73230f9f",
      "execution_count": null,
      "outputs": []
    },
    {
      "cell_type": "markdown",
      "metadata": {
        "id": "5560eaa6"
      },
      "source": [
        "## Lade das vortrainierte BERT Model und Tokenizer\n",
        "bert-base-uncased ist das standard Dictionary von Google. Es gibt auch ein bert-large-uncased für eine höhere Performance."
      ],
      "id": "5560eaa6"
    },
    {
      "cell_type": "code",
      "metadata": {
        "id": "52646216"
      },
      "source": [
        "# if model_exists:\n",
        "#   model = tf.keras.models.load_model(path_h5)\n",
        "# else:\n",
        "model = TFBertForSequenceClassification.from_pretrained(\"bert-large-uncased\", num_labels = 3)\n",
        "\n",
        "tokenizer = BertTokenizer.from_pretrained(\"bert-large-uncased\")"
      ],
      "id": "52646216",
      "execution_count": null,
      "outputs": []
    },
    {
      "cell_type": "code",
      "metadata": {
        "id": "ea665d37"
      },
      "source": [
        "model.summary()"
      ],
      "id": "ea665d37",
      "execution_count": null,
      "outputs": []
    },
    {
      "cell_type": "markdown",
      "metadata": {
        "id": "e30f9fdc"
      },
      "source": [
        "## Laden der reinen Daten\n",
        "BERT funktioniert ohne Tagging"
      ],
      "id": "e30f9fdc"
    },
    {
      "cell_type": "code",
      "metadata": {
        "id": "09c5f7fe"
      },
      "source": [
        "#but the tweets.csv path\n",
        "url = 'https://raw.githubusercontent.com/ChrisNiekler/NASDAQ-Dataset/master/Tweets.csv'\n",
        "data = pd.read_csv(url)\n",
        "data.head(5)"
      ],
      "id": "09c5f7fe",
      "execution_count": null,
      "outputs": []
    },
    {
      "cell_type": "markdown",
      "metadata": {
        "id": "42c56ca5"
      },
      "source": [
        "## Laden der bereinigten Daten\n",
        "# Prüfen ob sich Null-Werte in den Daten befinden"
      ],
      "id": "42c56ca5"
    },
    {
      "cell_type": "code",
      "metadata": {
        "id": "2cf290d7"
      },
      "source": [
        "(data['Tweets'].isnull()).sum()"
      ],
      "id": "2cf290d7",
      "execution_count": null,
      "outputs": []
    },
    {
      "cell_type": "code",
      "metadata": {
        "id": "12ac2756"
      },
      "source": [
        "(data['Sentiment'].isnull()).sum()"
      ],
      "id": "12ac2756",
      "execution_count": null,
      "outputs": []
    },
    {
      "cell_type": "markdown",
      "metadata": {
        "id": "2c376c8d"
      },
      "source": [
        "# Null-Werte durch Neutrale Werte ersetzten\n",
        "(Löschen wäre eine Alternative)"
      ],
      "id": "2c376c8d"
    },
    {
      "cell_type": "code",
      "metadata": {
        "id": "cd45794a"
      },
      "source": [
        "data = data.fillna(value=1.0)"
      ],
      "id": "cd45794a",
      "execution_count": null,
      "outputs": []
    },
    {
      "cell_type": "code",
      "metadata": {
        "id": "0367d435"
      },
      "source": [
        "(data['Tweets'].isnull()).sum()"
      ],
      "id": "0367d435",
      "execution_count": null,
      "outputs": []
    },
    {
      "cell_type": "code",
      "metadata": {
        "id": "864ab861"
      },
      "source": [
        "(data['Sentiment'].isnull()).sum()"
      ],
      "id": "864ab861",
      "execution_count": null,
      "outputs": []
    },
    {
      "cell_type": "markdown",
      "metadata": {
        "id": "49786652"
      },
      "source": [
        "# Aufteilen der Daten in Feature und Label"
      ],
      "id": "49786652"
    },
    {
      "cell_type": "code",
      "metadata": {
        "id": "5070b81e"
      },
      "source": [
        "x = data['Tweets']\n",
        "y = data['Sentiment']"
      ],
      "id": "5070b81e",
      "execution_count": null,
      "outputs": []
    },
    {
      "cell_type": "code",
      "metadata": {
        "id": "9e2c7a2f"
      },
      "source": [
        "train_x, test_x, train_y, test_y = train_test_split(x, y, test_size = 0.3)"
      ],
      "id": "9e2c7a2f",
      "execution_count": null,
      "outputs": []
    },
    {
      "cell_type": "code",
      "metadata": {
        "id": "55e79625"
      },
      "source": [
        "test_list = test_x.to_list()"
      ],
      "id": "55e79625",
      "execution_count": null,
      "outputs": []
    },
    {
      "cell_type": "code",
      "metadata": {
        "id": "0411604e"
      },
      "source": [
        "test_list_2 = test_y.to_list()"
      ],
      "id": "0411604e",
      "execution_count": null,
      "outputs": []
    },
    {
      "cell_type": "code",
      "metadata": {
        "id": "9da111af"
      },
      "source": [
        "# assign data of lists.\n",
        "train_da = {'Tweet': train_x, 'Sentiment': train_y}\n",
        "# Create DataFrame.\n",
        "train_data = pd.DataFrame(train_da)\n",
        "# Print the output.\n",
        "print(train_data)"
      ],
      "id": "9da111af",
      "execution_count": null,
      "outputs": []
    },
    {
      "cell_type": "code",
      "metadata": {
        "id": "69102c4e"
      },
      "source": [
        "def convert_data_to_examples(train, test, DATA_COLUMN, LABEL_COLUMN): \n",
        "  train_InputExamples = train.apply(lambda x: InputExample(guid=None, # Globally unique ID for bookkeeping, unused in this case\n",
        "                                                          text_a = x[DATA_COLUMN], \n",
        "                                                          text_b = None,\n",
        "                                                          label = x[LABEL_COLUMN]), axis = 1)\n",
        "  validation_InputExamples = test.apply(lambda x: InputExample(guid=None,\n",
        "                                                          text_a = x[DATA_COLUMN], \n",
        "                                                          text_b = None,\n",
        "                                                          label = x[LABEL_COLUMN]), axis = 1)\n",
        "  \n",
        "  return train_InputExamples, validation_InputExamples\n",
        "  train_InputExamples, validation_InputExamples = convert_data_to_examples(train, \n",
        "                                                                           test, \n",
        "                                                                           'Tweet', \n",
        "                                                                           'Sentiment')\n",
        "  \n",
        "def convert_examples_to_tf_dataset(examples, tokenizer, max_length=128):\n",
        "    features = [] # -> will hold InputFeatures to be converted later\n",
        "    for e in examples:\n",
        "        # Documentation is really strong for this method, so please take a look at it\n",
        "        input_dict = tokenizer.encode_plus(\n",
        "            e.text_a,\n",
        "            add_special_tokens=True,\n",
        "            max_length=max_length, # truncates if len(s) > max_length\n",
        "            return_token_type_ids=True,\n",
        "            return_attention_mask=True,\n",
        "            pad_to_max_length=True, # pads to the right by default # CHECK THIS for pad_to_max_length\n",
        "            truncation=True\n",
        "        )\n",
        "        input_ids, token_type_ids, attention_mask = (input_dict[\"input_ids\"],\n",
        "            input_dict[\"token_type_ids\"], input_dict['attention_mask'])\n",
        "        features.append(\n",
        "            InputFeatures(\n",
        "                input_ids=input_ids, attention_mask=attention_mask, token_type_ids=token_type_ids, label=e.label\n",
        "            )\n",
        "        )\n",
        "    def gen():\n",
        "        for f in features:\n",
        "            yield (\n",
        "                {\n",
        "                    \"input_ids\": f.input_ids,\n",
        "                    \"attention_mask\": f.attention_mask,\n",
        "                    \"token_type_ids\": f.token_type_ids,\n",
        "                },\n",
        "                f.label,\n",
        "            )\n",
        "    return tf.data.Dataset.from_generator(\n",
        "        gen,\n",
        "        ({\"input_ids\": tf.int32, \"attention_mask\": tf.int32, \"token_type_ids\": tf.int32}, tf.int64),\n",
        "        (\n",
        "            {\n",
        "                \"input_ids\": tf.TensorShape([None]),\n",
        "                \"attention_mask\": tf.TensorShape([None]),\n",
        "                \"token_type_ids\": tf.TensorShape([None]),\n",
        "            },\n",
        "            tf.TensorShape([]),\n",
        "        ),\n",
        "    )\n",
        "DATA_COLUMN = 'Tweet'\n",
        "LABEL_COLUMN = 'Sentiment'"
      ],
      "id": "69102c4e",
      "execution_count": null,
      "outputs": []
    },
    {
      "cell_type": "code",
      "metadata": {
        "id": "cd4e926d"
      },
      "source": [
        "train_InputExamples, validation_InputExamples = convert_data_to_examples(train_data, test_data, DATA_COLUMN, LABEL_COLUMN)\n"
      ],
      "id": "cd4e926d",
      "execution_count": null,
      "outputs": []
    },
    {
      "cell_type": "code",
      "metadata": {
        "id": "8d4ff702"
      },
      "source": [
        "training_data = convert_examples_to_tf_dataset(list(train_InputExamples), tokenizer)"
      ],
      "id": "8d4ff702",
      "execution_count": null,
      "outputs": []
    },
    {
      "cell_type": "code",
      "metadata": {
        "id": "a6cf18b4"
      },
      "source": [
        "training_data = training_data.shuffle(100).batch(16).repeat(2)"
      ],
      "id": "a6cf18b4",
      "execution_count": null,
      "outputs": []
    },
    {
      "cell_type": "code",
      "metadata": {
        "id": "9670b48a"
      },
      "source": [
        "validation_data = convert_examples_to_tf_dataset(list(validation_InputExamples), tokenizer)"
      ],
      "id": "9670b48a",
      "execution_count": null,
      "outputs": []
    },
    {
      "cell_type": "code",
      "metadata": {
        "id": "fdea3294"
      },
      "source": [
        "validation_data = validation_data.batch(16)"
      ],
      "id": "fdea3294",
      "execution_count": null,
      "outputs": []
    },
    {
      "cell_type": "code",
      "metadata": {
        "id": "d462c680"
      },
      "source": [
        "%load_ext tensorboard\n",
        "log_folder = 'logs'"
      ],
      "id": "d462c680",
      "execution_count": null,
      "outputs": []
    },
    {
      "cell_type": "code",
      "metadata": {
        "id": "76cd0052"
      },
      "source": [
        "from tensorflow.keras.callbacks import TensorBoard\n",
        "callbacks = [TensorBoard(log_dir=log_folder,\n",
        "                         histogram_freq=1,\n",
        "                         write_graph=True,\n",
        "                         write_images=True,\n",
        "                         update_freq='epoch',\n",
        "                         profile_batch=2,\n",
        "                         embeddings_freq=1)]"
      ],
      "id": "76cd0052",
      "execution_count": null,
      "outputs": []
    },
    {
      "cell_type": "markdown",
      "metadata": {
        "id": "a344bb19"
      },
      "source": [
        "# Training"
      ],
      "id": "a344bb19"
    },
    {
      "cell_type": "code",
      "metadata": {
        "id": "b1f2e468"
      },
      "source": [
        "\n",
        "model.compile(optimizer=tf.keras.optimizers.Adam(learning_rate=3e-5, epsilon=1e-08, clipnorm=1.0), \n",
        "              loss=tf.keras.losses.SparseCategoricalCrossentropy(from_logits=True), \n",
        "              metrics=[tf.keras.metrics.SparseCategoricalAccuracy('accuracy')])\n",
        "\n",
        "model.fit(training_data, epochs=2, validation_data=validation_data, callbacks=callbacks)"
      ],
      "id": "b1f2e468",
      "execution_count": null,
      "outputs": []
    },
    {
      "cell_type": "code",
      "metadata": {
        "id": "13a1ab5a"
      },
      "source": [
        "# save tf format, make sure no errors while saving and calling for prdection\n",
        "model.save('/content/BERT_MODEL/Bert_trained_tweets',save_format='tf')"
      ],
      "id": "13a1ab5a",
      "execution_count": null,
      "outputs": []
    },
    {
      "cell_type": "code",
      "metadata": {
        "id": "0849abc5"
      },
      "source": [
        "%tensorboard --logdir={\"logs\"}"
      ],
      "id": "0849abc5",
      "execution_count": null,
      "outputs": []
    },
    {
      "cell_type": "code",
      "metadata": {
        "id": "811b7062"
      },
      "source": [
        "#to predict \n",
        "tf_batch = tokenizer(test_list[:30], max_length=128, padding=True, truncation=True, return_tensors='tf')\n",
        "tf_outputs = model(tf_batch)\n",
        "tf_predictions = tf.nn.softmax(tf_outputs[0], axis=-1)\n",
        "labels = [ '0.0 Nature','1.0 Positive','2.0 Negative']\n",
        "label = tf.argmax(tf_predictions, axis=1)\n",
        "label = label.numpy()\n",
        "#test_list is containing the tweets, test_list_2 containing the sentemint \n",
        "for i in range(len(test_list[:30])):\n",
        "  print(test_list[i], \": \\n predicted Value is: \", labels[label[i]], ', Original value is : ', test_list_2[i])"
      ],
      "id": "811b7062",
      "execution_count": null,
      "outputs": []
    },
    {
      "cell_type": "code",
      "metadata": {
        "id": "a76a3874"
      },
      "source": [
        "# mount it\n",
        "from google.colab import drive\n",
        "drive.mount('/content/drive')"
      ],
      "id": "a76a3874",
      "execution_count": null,
      "outputs": []
    },
    {
      "cell_type": "code",
      "metadata": {
        "id": "b7655071"
      },
      "source": [
        "#copy it there\n",
        "!cp -r BERT_MODEL/Bert_trained_tweets/* /content/drive/MyDrive/BERT_MODEL"
      ],
      "id": "b7655071",
      "execution_count": null,
      "outputs": []
    }
  ]
}