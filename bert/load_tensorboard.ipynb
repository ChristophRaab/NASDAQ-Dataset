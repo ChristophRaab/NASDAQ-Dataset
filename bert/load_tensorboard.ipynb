{
  "nbformat": 4,
  "nbformat_minor": 5,
  "metadata": {
    "kernelspec": {
      "display_name": "Python 3",
      "language": "python",
      "name": "python3"
    },
    "language_info": {
      "codemirror_mode": {
        "name": "ipython",
        "version": 3
      },
      "file_extension": ".py",
      "mimetype": "text/x-python",
      "name": "python",
      "nbconvert_exporter": "python",
      "pygments_lexer": "ipython3",
      "version": "3.8.8"
    },
    "colab": {
      "name": "load_tensorboard.ipynb",
      "provenance": [],
      "include_colab_link": true
    }
  },
  "cells": [
    {
      "cell_type": "markdown",
      "metadata": {
        "id": "view-in-github",
        "colab_type": "text"
      },
      "source": [
        "<a href=\"https://colab.research.google.com/github/ChrisNiekler/NASDAQ-Dataset/blob/master/bert/load_tensorboard.ipynb\" target=\"_parent\"><img src=\"https://colab.research.google.com/assets/colab-badge.svg\" alt=\"Open In Colab\"/></a>"
      ]
    },
    {
      "cell_type": "code",
      "metadata": {
        "id": "ad600192"
      },
      "source": [
        "# mount it\n",
        "from google.colab import drive\n",
        "drive.mount('/content/drive')"
      ],
      "id": "ad600192",
      "execution_count": null,
      "outputs": []
    },
    {
      "cell_type": "code",
      "metadata": {
        "id": "4580c4c3"
      },
      "source": [
        "%load_ext tensorboard\n",
        "import os\n",
        "import errno\n",
        "\n",
        "logs = \"/content/drive/MyDrive/0FHWS/FHWS/Models/bert_logs\"\n",
        "logs_exist = os.path.isdir(logs)\n",
        "if logs_exist:\n",
        "  print(\"Files found\")\n",
        "else:\n",
        "  raise FileNotFoundError(errno.ENOENT, os.strerror(errno.ENOENT), logs)"
      ],
      "id": "4580c4c3",
      "execution_count": null,
      "outputs": []
    },
    {
      "cell_type": "code",
      "metadata": {
        "id": "3ff683d5"
      },
      "source": [
        "%tensorboard --logdir={logs}"
      ],
      "id": "3ff683d5",
      "execution_count": null,
      "outputs": []
    }
  ]
}