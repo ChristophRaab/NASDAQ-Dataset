{
  "nbformat": 4,
  "nbformat_minor": 0,
  "metadata": {
    "accelerator": "GPU",
    "colab": {
      "name": "Copy_of_ALBERT.ipynb",
      "provenance": [],
      "collapsed_sections": [],
      "include_colab_link": true
    },
    "kernelspec": {
      "display_name": "Python 3",
      "language": "python",
      "name": "python3"
    },
    "language_info": {
      "codemirror_mode": {
        "name": "ipython",
        "version": 3
      },
      "file_extension": ".py",
      "mimetype": "text/x-python",
      "name": "python",
      "nbconvert_exporter": "python",
      "pygments_lexer": "ipython3",
      "version": "3.8.8"
    }
  },
  "cells": [
    {
      "cell_type": "markdown",
      "metadata": {
        "id": "view-in-github",
        "colab_type": "text"
      },
      "source": [
        "<a href=\"https://colab.research.google.com/github/ChrisNiekler/NASDAQ-Dataset/blob/master/albert/ALBERT.ipynb\" target=\"_parent\"><img src=\"https://colab.research.google.com/assets/colab-badge.svg\" alt=\"Open In Colab\"/></a>"
      ]
    },
    {
      "cell_type": "markdown",
      "metadata": {
        "id": "eRBDLLe77ffT"
      },
      "source": [
        "# \"transformers\" muss installiert werden bevor man es nutzten kann."
      ]
    },
    {
      "cell_type": "code",
      "metadata": {
        "id": "JqqDpRPogOEi"
      },
      "source": [
        "pip install transformers"
      ],
      "execution_count": null,
      "outputs": []
    },
    {
      "cell_type": "code",
      "metadata": {
        "id": "C-N1sblYicAQ"
      },
      "source": [
        "pip install sentencepiece"
      ],
      "execution_count": null,
      "outputs": []
    },
    {
      "cell_type": "markdown",
      "metadata": {
        "id": "8onDwJkD7xJ3"
      },
      "source": [
        "# Notwendige Libraries importieren"
      ]
    },
    {
      "cell_type": "code",
      "metadata": {
        "id": "l48WKvXwgngm"
      },
      "source": [
        "import pandas as pd\n",
        "import tensorflow as tf\n",
        "import numpy as np\n",
        "from sklearn.model_selection import train_test_split\n",
        "from transformers import AlbertTokenizer, TFAlbertForSequenceClassification\n",
        "from transformers import InputExample, InputFeatures"
      ],
      "execution_count": null,
      "outputs": []
    },
    {
      "cell_type": "markdown",
      "metadata": {
        "id": "Ji3mPGb076C4"
      },
      "source": [
        "# ALBERT sollte auf einer GPU laufen, da es auf einer CPU deutlich mehr Zeit benötigt."
      ]
    },
    {
      "cell_type": "code",
      "metadata": {
        "id": "LQ6JwgY1iyfi"
      },
      "source": [
        "# to check the GPU\n",
        "%tensorflow_version 2.x\n",
        "device_name = tf.test.gpu_device_name()\n",
        "if device_name != '/device:GPU:0':\n",
        "  raise SystemError('GPU device not found')\n",
        "print(f'Found GPU at: {device_name}')"
      ],
      "execution_count": null,
      "outputs": []
    },
    {
      "cell_type": "markdown",
      "metadata": {
        "id": "vYyVm4C68VAM"
      },
      "source": [
        "## Lade das vortrainierte ALBERT Model und Tokenizer"
      ]
    },
    {
      "cell_type": "code",
      "metadata": {
        "id": "zVoOawgXhFg4"
      },
      "source": [
        "model = TFAlbertForSequenceClassification.from_pretrained(\"albert-base-v2\", num_labels = 3)\n",
        "tokenizer = AlbertTokenizer.from_pretrained(\"albert-base-v2\")"
      ],
      "execution_count": null,
      "outputs": []
    },
    {
      "cell_type": "markdown",
      "metadata": {
        "id": "KH770CAV9zE-"
      },
      "source": [
        "## Laden der reinen Daten\n",
        "ALBERT funktioniert ohne Tagging\n"
      ]
    },
    {
      "cell_type": "code",
      "metadata": {
        "id": "Z5fCkDmYhOb_"
      },
      "source": [
        "#put the tweets.csv path\n",
        "url = 'https://raw.githubusercontent.com/ChrisNiekler/NASDAQ-Dataset/master/Tweets.csv'\n",
        "data = pd.read_csv(url)\n",
        "data.head(5)"
      ],
      "execution_count": null,
      "outputs": []
    },
    {
      "cell_type": "markdown",
      "metadata": {
        "id": "0_Wzsfjd_HC5"
      },
      "source": [
        "# Prüfen ob sich Null-Werte in den Daten befinden"
      ]
    },
    {
      "cell_type": "code",
      "metadata": {
        "id": "e_6Xa05mONER"
      },
      "source": [
        "(data['Tweets'].isnull()).sum()"
      ],
      "execution_count": null,
      "outputs": []
    },
    {
      "cell_type": "code",
      "metadata": {
        "id": "POT2b0DhO1XZ"
      },
      "source": [
        "(data['Sentiment'].isnull()).sum()"
      ],
      "execution_count": null,
      "outputs": []
    },
    {
      "cell_type": "markdown",
      "metadata": {
        "id": "ltdsQiTG_n1Y"
      },
      "source": [
        "# Null-Werte durch Neutrale Werte ersetzten\n",
        "(Löschen wäre eine Alternative)"
      ]
    },
    {
      "cell_type": "code",
      "metadata": {
        "id": "0TuGV86pPXSq"
      },
      "source": [
        "data = data.fillna(value=1.0)"
      ],
      "execution_count": null,
      "outputs": []
    },
    {
      "cell_type": "code",
      "metadata": {
        "id": "mEH_EVsdPgDb"
      },
      "source": [
        "(data['Tweets'].isnull()).sum()"
      ],
      "execution_count": null,
      "outputs": []
    },
    {
      "cell_type": "code",
      "metadata": {
        "id": "z_YyoSKoPiyX"
      },
      "source": [
        "(data['Sentiment'].isnull()).sum()"
      ],
      "execution_count": null,
      "outputs": []
    },
    {
      "cell_type": "markdown",
      "metadata": {
        "id": "_g_ZUo_IAVVe"
      },
      "source": [
        "# Aufteilen der Daten in Feature und Label"
      ]
    },
    {
      "cell_type": "code",
      "metadata": {
        "id": "_CEDrwmKhTow"
      },
      "source": [
        "x = data['Tweets']\n",
        "y = data['Sentiment']"
      ],
      "execution_count": null,
      "outputs": []
    },
    {
      "cell_type": "code",
      "metadata": {
        "id": "kg_-66JNhTq-"
      },
      "source": [
        "train_x, test_x, train_y, test_y = train_test_split(x, y, test_size = 0.2)"
      ],
      "execution_count": null,
      "outputs": []
    },
    {
      "cell_type": "code",
      "metadata": {
        "id": "dyudkpGk7pAb"
      },
      "source": [
        "test_list = test_x.to_list()"
      ],
      "execution_count": null,
      "outputs": []
    },
    {
      "cell_type": "code",
      "metadata": {
        "id": "tv3DLVpZ_awo"
      },
      "source": [
        "test_list_2 = test_y.to_list()"
      ],
      "execution_count": null,
      "outputs": []
    },
    {
      "cell_type": "code",
      "metadata": {
        "id": "o9aCD0n7hTtE"
      },
      "source": [
        "# assign data of lists.\n",
        "train_da = {'Tweet': train_x, 'Sentiment': train_y}\n",
        "# Create DataFrame.\n",
        "train_data = pd.DataFrame(train_da)\n",
        "# Print the output.\n",
        "print(train_data)"
      ],
      "execution_count": null,
      "outputs": []
    },
    {
      "cell_type": "code",
      "metadata": {
        "id": "dA7lRTGGhTu_"
      },
      "source": [
        "# assign data of lists.\n",
        "test_data_dict = {'Tweet': test_x, 'Sentiment': test_y}\n",
        "# Create DataFrame.\n",
        "test_data = pd.DataFrame(test_data_dict)\n",
        "# Print the output.\n",
        "print(test_data)"
      ],
      "execution_count": null,
      "outputs": []
    },
    {
      "cell_type": "code",
      "metadata": {
        "id": "3NJICY1Di7oN"
      },
      "source": [
        "def convert_data_to_examples(train, test, DATA_COLUMN, LABEL_COLUMN): \n",
        "  train_InputExamples = train.apply(lambda x: InputExample(guid=None, # Globally unique ID for bookkeeping, unused in this case\n",
        "                                                          text_a = x[DATA_COLUMN], \n",
        "                                                          text_b = None,\n",
        "                                                          label = x[LABEL_COLUMN]), axis = 1)\n",
        "  validation_InputExamples = test.apply(lambda x: InputExample(guid=None,\n",
        "                                                          text_a = x[DATA_COLUMN], \n",
        "                                                          text_b = None,\n",
        "                                                          label = x[LABEL_COLUMN]), axis = 1)\n",
        "  \n",
        "  #train_InputExamples, validation_InputExamples = convert_data_to_examples(train, \n",
        "   #                                                                        test, \n",
        "    #                                                                       'Tweet', \n",
        "     #                                                                      'Sentiment')\n",
        "  return train_InputExamples, validation_InputExamples\n",
        "  train_InputExamples, validation_InputExamples = convert_data_to_examples(train, \n",
        "                                                                           test, \n",
        "                                                                           'Tweet', \n",
        "                                                                           'Sentiment')\n",
        "  \n",
        "def convert_examples_to_tf_dataset(examples, tokenizer, max_length=128):\n",
        "    features = [] # -> will hold InputFeatures to be converted later\n",
        "    for e in examples:\n",
        "        # Documentation is really strong for this method, so please take a look at it\n",
        "        input_dict = tokenizer.encode_plus(\n",
        "            e.text_a,\n",
        "            add_special_tokens=True,\n",
        "            max_length=max_length, # truncates if len(s) > max_length\n",
        "            return_token_type_ids=True,\n",
        "            return_attention_mask=True,\n",
        "            pad_to_max_length=True, # pads to the right by default # CHECK THIS for pad_to_max_length\n",
        "            truncation=True\n",
        "        )\n",
        "        input_ids, token_type_ids, attention_mask = (input_dict[\"input_ids\"],\n",
        "            input_dict[\"token_type_ids\"], input_dict['attention_mask'])\n",
        "        features.append(\n",
        "            InputFeatures(\n",
        "                input_ids=input_ids, attention_mask=attention_mask, token_type_ids=token_type_ids, label=e.label\n",
        "            )\n",
        "        )\n",
        "    def gen():\n",
        "        for f in features:\n",
        "            yield (\n",
        "                {\n",
        "                    \"input_ids\": f.input_ids,\n",
        "                    \"attention_mask\": f.attention_mask,\n",
        "                    \"token_type_ids\": f.token_type_ids,\n",
        "                },\n",
        "                f.label,\n",
        "            )\n",
        "    return tf.data.Dataset.from_generator(\n",
        "        gen,\n",
        "        ({\"input_ids\": tf.int32, \"attention_mask\": tf.int32, \"token_type_ids\": tf.int32}, tf.int64),\n",
        "        (\n",
        "            {\n",
        "                \"input_ids\": tf.TensorShape([None]),\n",
        "                \"attention_mask\": tf.TensorShape([None]),\n",
        "                \"token_type_ids\": tf.TensorShape([None]),\n",
        "            },\n",
        "            tf.TensorShape([]),\n",
        "        ),\n",
        "    )\n",
        "DATA_COLUMN = 'Tweet'\n",
        "LABEL_COLUMN = 'Sentiment'"
      ],
      "execution_count": null,
      "outputs": []
    },
    {
      "cell_type": "code",
      "metadata": {
        "id": "g2eBcX1Ti7zA"
      },
      "source": [
        "train_InputExamples, validation_InputExamples = convert_data_to_examples(train_data, test_data, DATA_COLUMN, LABEL_COLUMN)\n"
      ],
      "execution_count": null,
      "outputs": []
    },
    {
      "cell_type": "code",
      "metadata": {
        "id": "rp5efUB5i76N"
      },
      "source": [
        "training_data = convert_examples_to_tf_dataset(list(train_InputExamples), tokenizer)"
      ],
      "execution_count": null,
      "outputs": []
    },
    {
      "cell_type": "code",
      "metadata": {
        "id": "hVdC-dSWi7-i"
      },
      "source": [
        "training_data = training_data.shuffle(100).batch(32).repeat(2)"
      ],
      "execution_count": null,
      "outputs": []
    },
    {
      "cell_type": "code",
      "metadata": {
        "id": "vGUNkjwti8A6"
      },
      "source": [
        "validation_data = convert_examples_to_tf_dataset(list(validation_InputExamples), tokenizer)"
      ],
      "execution_count": null,
      "outputs": []
    },
    {
      "cell_type": "code",
      "metadata": {
        "id": "pop-cdJki8Do"
      },
      "source": [
        "validation_data = validation_data.batch(32)"
      ],
      "execution_count": null,
      "outputs": []
    },
    {
      "cell_type": "code",
      "metadata": {
        "id": "1CJNRbk6i8Ju"
      },
      "source": [
        "model.compile(optimizer=tf.keras.optimizers.Adam(learning_rate=3e-5, epsilon=1e-08, clipnorm=1.0), \n",
        "              loss=tf.keras.losses.SparseCategoricalCrossentropy(from_logits=True), \n",
        "              metrics=[tf.keras.metrics.SparseCategoricalAccuracy('accuracy')])\n",
        "\n",
        "model.fit(training_data, epochs=2, validation_data=validation_data)"
      ],
      "execution_count": null,
      "outputs": []
    },
    {
      "cell_type": "code",
      "metadata": {
        "id": "hDUEj_utjHYB"
      },
      "source": [
        "#to predict \n",
        "tf_batch = tokenizer(test_list[:30], max_length=128, padding=True, truncation=True, return_tensors='tf')\n",
        "tf_outputs = model(tf_batch)\n",
        "tf_predictions = tf.nn.softmax(tf_outputs[0], axis=-1)\n",
        "labels = [ '0.0 Nature','1.0 Positive','2.0 Negative']\n",
        "label = tf.argmax(tf_predictions, axis=1)\n",
        "label = label.numpy()\n",
        "#test_list is containing the tweets, test_list_2 containing the sentemint \n",
        "for i in range(len(test_list[:30])):\n",
        "  print(test_list[i], \": \\n predicted Value is: \", labels[label[i]], ', Original value is : ', test_list_2[i])"
      ],
      "execution_count": null,
      "outputs": []
    },
    {
      "cell_type": "code",
      "metadata": {
        "id": "iCciAE2H_MUg"
      },
      "source": [
        "# save tf format, make sure no errors while saving and calling for prdection\n",
        "model.save('/content/ALBERT_MODEL/ALBERT_trained_tweets',save_format='tf')"
      ],
      "execution_count": null,
      "outputs": []
    },
    {
      "cell_type": "code",
      "metadata": {
        "id": "x5B2JGU5tgh1"
      },
      "source": [
        "fp = open('metadata_albert.tsv','w') \n",
        "fp2 = open('tensors_albert.bytes','wb') \n",
        "new_numpy = np.empty((0,3))\n",
        "tweets_list = x.to_list()\n",
        "\n",
        "for i in range(len(tweets_list)):\n",
        "  tf_tweet = tokenizer(tweets_list[i], max_length=128, padding=True, truncation=True, return_tensors='tf')\n",
        "  tf_tweet_output = model(tf_tweet)\n",
        "\n",
        "  tf_tweet_prediction = tf.nn.softmax(tf_tweet_output[0], axis=-1)\n",
        "  tf_tweet_prediction = tf_tweet_prediction.numpy()\n",
        "\n",
        "  label = tf.argmax(tf_tweet_prediction, axis=1)\n",
        "  label = label.numpy()\n",
        "  new_line = tweets_list[i] + \"\\t\" + str(label[0]) \n",
        "\n",
        "  fp.write(new_line + \"\\n\")\n",
        "  fp2.write(tf_tweet_prediction.tobytes())\n",
        "\n",
        "fp.close()\n",
        "fp2.close()"
      ],
      "execution_count": null,
      "outputs": []
    },
    {
      "cell_type": "code",
      "metadata": {
        "id": "5ky236pE_Stb"
      },
      "source": [
        "#save to h5 \n",
        "model.save_weights('/content/ALBERT_MODEL/ALBERT_MODEL.h5', save_format = 'h5')"
      ],
      "execution_count": null,
      "outputs": []
    },
    {
      "cell_type": "code",
      "metadata": {
        "id": "JL25rI6b_jTn"
      },
      "source": [
        "# mount it\n",
        "from google.colab import drive\n",
        "drive.mount('/content/drive')\n",
        "\n",
        "\n",
        "#copy it there\n",
        "!cp -r ALBERT_MODEL/ALBERT_trained_tweets/* /content/drive/MyDrive\n",
        "\n",
        "\n",
        "!cp -r ALBERT_MODEL/ALBERT_MODEL.h5 /content/drive/MyDrive"
      ],
      "execution_count": null,
      "outputs": []
    }
  ]
}